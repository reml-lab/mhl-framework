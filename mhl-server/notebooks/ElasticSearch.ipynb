{
 "cells": [
  {
   "cell_type": "code",
   "execution_count": 4,
   "id": "935d508b",
   "metadata": {
    "scrolled": false
   },
   "outputs": [
    {
     "name": "stdout",
     "output_type": "stream",
     "text": [
      "\n",
      "number of hits: 10\n",
      "\n",
      " 0 {'val': -0.9937627208264451, 'datetime': '2022-07-28T11:39:08.293-0400', 'badge-id': 'abcdefgh', 'timestamp': 1659022748293}\n",
      "\n",
      " 1 {'val': 0.9947108476735003, 'datetime': '2022-07-28T11:39:08.315-0400', 'badge-id': 'abcdefgh', 'timestamp': 1659022748315}\n",
      "\n",
      " 2 {'val': -0.45889532267061545, 'datetime': '2022-07-28T11:39:08.336-0400', 'badge-id': 'abcdefgh', 'timestamp': 1659022748336}\n",
      "\n",
      " 3 {'val': 0.4667416488800342, 'datetime': '2022-07-28T11:39:08.358-0400', 'badge-id': 'abcdefgh', 'timestamp': 1659022748358}\n",
      "\n",
      " 4 {'val': -0.9970873646943641, 'datetime': '2022-07-28T11:39:08.381-0400', 'badge-id': 'abcdefgh', 'timestamp': 1659022748381}\n",
      "\n",
      " 5 {'val': 0.9977233756457002, 'datetime': '2022-07-28T11:39:08.403-0400', 'badge-id': 'abcdefgh', 'timestamp': 1659022748403}\n",
      "\n",
      " 6 {'val': -0.5886885122219292, 'datetime': '2022-07-28T11:39:08.426-0400', 'badge-id': 'abcdefgh', 'timestamp': 1659022748426}\n",
      "\n",
      " 7 {'val': -0.9817426031971175, 'datetime': '2022-07-28T11:39:08.450-0400', 'badge-id': 'abcdefgh', 'timestamp': 1659022748450}\n",
      "\n",
      " 8 {'val': 0.6840680563326917, 'datetime': '2022-07-28T11:39:08.473-0400', 'badge-id': 'abcdefgh', 'timestamp': 1659022748473}\n",
      "\n",
      " 9 {'val': -0.9849559310361489, 'datetime': '2022-07-28T11:39:08.494-0400', 'badge-id': 'abcdefgh', 'timestamp': 1659022748494}\n"
     ]
    }
   ],
   "source": [
    "from elasticsearch import Elasticsearch\n",
    "\n",
    "#Connect to elastic search server\n",
    "es = Elasticsearch([\"mhl-es:9200\"])\n",
    "\n",
    "#Query sensor-synthetic index\n",
    "res = es.search(index=\"sensor-synthetic\", body={\"query\":{\"match_all\":{}}})\n",
    "\n",
    "#Get top hits\n",
    "hits = res['hits']['hits']\n",
    "print ('\\nnumber of hits:', len(hits))\n",
    "\n",
    "#Show hits\n",
    "for num, doc in enumerate(hits):\n",
    "    print ('\\n', num,doc[\"_source\"])"
   ]
  },
  {
   "cell_type": "code",
   "execution_count": null,
   "id": "ec41838d",
   "metadata": {},
   "outputs": [],
   "source": []
  }
 ],
 "metadata": {
  "kernelspec": {
   "display_name": "Python 3",
   "language": "python",
   "name": "python3"
  },
  "language_info": {
   "codemirror_mode": {
    "name": "ipython",
    "version": 3
   },
   "file_extension": ".py",
   "mimetype": "text/x-python",
   "name": "python",
   "nbconvert_exporter": "python",
   "pygments_lexer": "ipython3",
   "version": "3.6.9"
  }
 },
 "nbformat": 4,
 "nbformat_minor": 5
}
